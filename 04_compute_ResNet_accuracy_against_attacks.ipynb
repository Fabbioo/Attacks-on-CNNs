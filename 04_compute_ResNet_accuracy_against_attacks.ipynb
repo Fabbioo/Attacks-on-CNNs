{
 "cells": [
  {
   "cell_type": "code",
   "execution_count": 1,
   "metadata": {},
   "outputs": [],
   "source": [
    "from functions import *\n",
    "\n",
    "dataset: list = load_dataset(settings.images_path, added_new_images = False) # added_new_images = True solo quando vengono aggiunte nuove immagini al path.\n",
    "\n",
    "model: torchvision.models = load_model_resnet50().to(settings.device)\n",
    "\n",
    "flag_compute_performance_against_FGSM: bool = False\n",
    "flag_compute_performance_against_IFGSM: bool = False\n",
    "flag_compute_performance_against_PGD: bool = False\n",
    "\n",
    "attack_type: dict = {\n",
    "    1: 'FGSM',\n",
    "    2: 'I-FGSM',\n",
    "    3: 'PGD'\n",
    "}"
   ]
  },
  {
   "cell_type": "code",
   "execution_count": 3,
   "metadata": {},
   "outputs": [],
   "source": [
    "if flag_compute_performance_against_FGSM:\n",
    "    fgsm_accuracies, fgsm_dict_wrong_preds = compute_accuracy(attack_type[1], dataset, model, settings.device, settings.img_resize, settings.epsilons, settings.alphas)\n",
    "    file_name = os.path.join(settings.results_path, 'fgsm_accuracies.txt')\n",
    "    with open(file_name, 'w') as file:\n",
    "        for i, elem in enumerate(fgsm_accuracies):\n",
    "            string_to_write: str = ''\n",
    "            if i < len(epsilons) - 1:\n",
    "                string_to_write = str(elem) + '\\n'\n",
    "            else:\n",
    "                string_to_write = str(elem)\n",
    "            file.write(string_to_write)\n",
    "    torch.save(fgsm_dict_wrong_preds, 'res/fgsm_dict_wrong_preds.pth')"
   ]
  },
  {
   "cell_type": "code",
   "execution_count": 4,
   "metadata": {},
   "outputs": [],
   "source": [
    "if flag_compute_performance_against_IFGSM:\n",
    "    for iter in settings.iters:\n",
    "        print('Start ' + attack_type[2] + f' with {iter} iters.')\n",
    "        ifgsm_accuracies, ifgsm_dict_wrong_preds = compute_accuracy(attack_type[2], dataset, model, settings.device, settings.img_resize, settings.epsilons, settings.alphas, iter)\n",
    "        print('Completed.')\n",
    "        file_name = os.path.join(results_path, f'ifgsm_accuracies_{iter}iters.txt')\n",
    "        with open(file_name, 'w') as file:\n",
    "            for i, elem in enumerate(ifgsm_accuracies):\n",
    "                string_to_write: str = ''\n",
    "                if i < len(epsilons) - 1:\n",
    "                    string_to_write = str(elem) + '\\n'\n",
    "                else:\n",
    "                    string_to_write = str(elem)\n",
    "                file.write(string_to_write)\n",
    "        torch.save(ifgsm_dict_wrong_preds, f'res/ifgsm_dict_wrong_preds_{iter}iters.pth')"
   ]
  },
  {
   "cell_type": "code",
   "execution_count": 5,
   "metadata": {},
   "outputs": [],
   "source": [
    "if flag_compute_performance_against_PGD:\n",
    "    for iter in settings.iters:\n",
    "        print('Start ' + attack_type[3] + f' with {iter} iters.')\n",
    "        pgd_accuracies, pgd_dict_wrong_preds = compute_accuracy(attack_type[3], dataset, model, settings.device, settings.img_resize, settings.epsilons, settings.alphas, iter)\n",
    "        print('Completed.')\n",
    "        file_name = os.path.join(results_path, f'pgd_accuracies_{iter}iters.txt')\n",
    "        with open(file_name, 'w') as file:\n",
    "            for i, elem in enumerate(pgd_accuracies):\n",
    "                string_to_write: str = ''\n",
    "                if i < len(epsilons) - 1:\n",
    "                    string_to_write = str(elem) + '\\n'\n",
    "                else:\n",
    "                    string_to_write = str(elem)\n",
    "                file.write(string_to_write)\n",
    "        torch.save(pgd_dict_wrong_preds, f'res/pgd_dict_wrong_preds_{iter}iters.pth')"
   ]
  }
 ],
 "metadata": {
  "kernelspec": {
   "display_name": "yolov8",
   "language": "python",
   "name": "python3"
  },
  "language_info": {
   "codemirror_mode": {
    "name": "ipython",
    "version": 3
   },
   "file_extension": ".py",
   "mimetype": "text/x-python",
   "name": "python",
   "nbconvert_exporter": "python",
   "pygments_lexer": "ipython3",
   "version": "3.11.7"
  }
 },
 "nbformat": 4,
 "nbformat_minor": 2
}
