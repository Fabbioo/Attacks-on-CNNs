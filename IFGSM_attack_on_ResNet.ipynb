{
 "cells": [
  {
   "cell_type": "code",
   "execution_count": 1,
   "metadata": {},
   "outputs": [],
   "source": [
    "import warnings\n",
    "\n",
    "import matplotlib.pyplot as plt\n",
    "import torch\n",
    "from torchvision.io import read_image\n",
    "from torchvision.models import resnet50, ResNet50_Weights\n",
    "\n",
    "from functions import *"
   ]
  },
  {
   "cell_type": "code",
   "execution_count": 2,
   "metadata": {},
   "outputs": [],
   "source": [
    "warnings.filterwarnings('ignore')\n",
    "\n",
    "device: str = 'cpu'\n",
    "if torch.cuda.is_available():\n",
    "    device = 'cuda'\n",
    "elif torch.backends.mps.is_available(): \n",
    "    device = 'mps'\n",
    "\n",
    "x_img_resize: int = 224\n",
    "y_img_resize: int = 224\n",
    "img_resize: tuple = (x_img_resize, y_img_resize)\n",
    "\n",
    "x_figure_size: int = 16\n",
    "y_figure_size: int = 8\n",
    "fig_size: tuple = (x_figure_size, y_figure_size)\n",
    "\n",
    "parametri_grafici = {\n",
    "    'figure.figsize': fig_size, # Dimensione della figura.\n",
    "    'figure.autolayout': True,  # Regolazione automatica delle dimensioni della figura.\n",
    "    'figure.titlesize': 20,     # Dimensione del titolo associato ad ogni figura (plt.suptitle()).\n",
    "    'axes.titlesize': 20,       # Dimensione del titolo associato ad ogni grafico all'interno di una figura (plt.title()).\n",
    "    'axes.labelsize': 20,       # Dimensione delle etichette sia sull'asse x sia sull'asse y.\n",
    "    'xtick.labelsize': 15,      # Dimensione dei riferimenti sull'asse x.\n",
    "    'ytick.labelsize': 15,      # Dimensione dei riferimenti sull'asse y.\n",
    "    'legend.fontsize': 20,      # Dimensione dei caratteri della legenda.\n",
    "}\n",
    "plt.rcParams.update(parametri_grafici)"
   ]
  },
  {
   "cell_type": "code",
   "execution_count": 3,
   "metadata": {},
   "outputs": [],
   "source": [
    "working_directory_path: str = os.getcwd()\n",
    "images_path: str = working_directory_path + '/images'\n",
    "\n",
    "dataset: list = load_dataset(images_path, added_new_images = False) # added_new_images = True solo quando vengono aggiunte nuove immagini al path."
   ]
  },
  {
   "cell_type": "code",
   "execution_count": 4,
   "metadata": {},
   "outputs": [],
   "source": [
    "# Definizione del modello di classificazione ResNet trainato sul dataset ImageNet.\n",
    "model = resnet50(weights = ResNet50_Weights.IMAGENET1K_V2).eval().to(device) # Lista delle classi: https://deeplearning.cms.waikato.ac.nz/user-guide/class-maps/IMAGENET/"
   ]
  },
  {
   "cell_type": "code",
   "execution_count": 5,
   "metadata": {},
   "outputs": [
    {
     "ename": "RuntimeError",
     "evalue": "you can only change requires_grad flags of leaf variables.",
     "output_type": "error",
     "traceback": [
      "\u001b[0;31m---------------------------------------------------------------------------\u001b[0m",
      "\u001b[0;31mRuntimeError\u001b[0m                              Traceback (most recent call last)",
      "Cell \u001b[0;32mIn[5], line 12\u001b[0m\n\u001b[1;32m     10\u001b[0m original_image: torch\u001b[38;5;241m.\u001b[39mTensor \u001b[38;5;241m=\u001b[39m read_image(image)\n\u001b[1;32m     11\u001b[0m original_image \u001b[38;5;241m=\u001b[39m preprocess(original_image, img_resize)\u001b[38;5;241m.\u001b[39mto(device)\n\u001b[0;32m---> 12\u001b[0m perturbed_image: torch\u001b[38;5;241m.\u001b[39mTensor \u001b[38;5;241m=\u001b[39m \u001b[43mifgsm_attack\u001b[49m\u001b[43m(\u001b[49m\u001b[43mmodel\u001b[49m\u001b[43m,\u001b[49m\u001b[43m \u001b[49m\u001b[43mloss_fn\u001b[49m\u001b[43m,\u001b[49m\u001b[43m \u001b[49m\u001b[43moriginal_image\u001b[49m\u001b[43m,\u001b[49m\u001b[43m \u001b[49m\u001b[43mepsilon\u001b[49m\u001b[43m,\u001b[49m\u001b[43m \u001b[49m\u001b[43malpha\u001b[49m\u001b[43m,\u001b[49m\u001b[43m \u001b[49m\u001b[43miters\u001b[49m\u001b[43m,\u001b[49m\u001b[43m \u001b[49m\u001b[43mdevice\u001b[49m\u001b[43m)\u001b[49m\n\u001b[1;32m     13\u001b[0m original_image \u001b[38;5;241m=\u001b[39m postprocess(original_image)\n\u001b[1;32m     14\u001b[0m perturbed_image \u001b[38;5;241m=\u001b[39m postprocess(perturbed_image)\n",
      "File \u001b[0;32m~/Documents/GitHub/Attacks-on-CNNs/functions/attacks.py:34\u001b[0m, in \u001b[0;36mifgsm_attack\u001b[0;34m(model, loss_fn, image, epsilon, alpha, iters, device)\u001b[0m\n\u001b[1;32m     32\u001b[0m label \u001b[38;5;241m=\u001b[39m torch\u001b[38;5;241m.\u001b[39mTensor([label])\u001b[38;5;241m.\u001b[39mlong()\u001b[38;5;241m.\u001b[39mto(device)\n\u001b[1;32m     33\u001b[0m \u001b[38;5;28;01mfor\u001b[39;00m _ \u001b[38;5;129;01min\u001b[39;00m \u001b[38;5;28mrange\u001b[39m(iters):\n\u001b[0;32m---> 34\u001b[0m     \u001b[43mimage\u001b[49m\u001b[38;5;241;43m.\u001b[39;49m\u001b[43mrequires_grad\u001b[49m \u001b[38;5;241m=\u001b[39m \u001b[38;5;28;01mTrue\u001b[39;00m\n\u001b[1;32m     35\u001b[0m     pred \u001b[38;5;241m=\u001b[39m model(image)\n\u001b[1;32m     36\u001b[0m     model\u001b[38;5;241m.\u001b[39mzero_grad()\n",
      "\u001b[0;31mRuntimeError\u001b[0m: you can only change requires_grad flags of leaf variables."
     ]
    }
   ],
   "source": [
    "# I-FGSM attack.\n",
    "\n",
    "epsilon: float = 0.5 # Parametro che controlla l’ampiezza della perturbazione che viene aggiunta all'immagine di input.\n",
    "iters: int = 100 # Numero di iterazioni richiesto per cercare di massimizzare la funzione di loss.\n",
    "alpha: float = epsilon/iters # Parametro che regola l'ampiezza del passo di update dell'immagine ad ogni iterazione.\n",
    "\n",
    "triplas: list = []\n",
    "for image in dataset[:2]: # A titolo di esempio considero solo le prime due immagini del dataset.\n",
    "    loss_fn = nn.CrossEntropyLoss()\n",
    "    original_image: torch.Tensor = read_image(image)\n",
    "    original_image = preprocess(original_image, img_resize).to(device)\n",
    "    perturbed_image: torch.Tensor = ifgsm_attack(model, loss_fn, original_image, epsilon, alpha, iters, device)\n",
    "    original_image = postprocess(original_image)\n",
    "    perturbed_image = postprocess(perturbed_image)\n",
    "    noise: torch.Tensor = perturbed_image - original_image\n",
    "    tripla: tuple = (original_image, noise, perturbed_image)\n",
    "    triplas.append(tripla)\n",
    "\n",
    "for tripla in triplas:\n",
    "    preds_display(model, tripla, epsilon, show_noise = True)\n",
    "    gradcam_display(model, tripla, img_resize)"
   ]
  }
 ],
 "metadata": {
  "kernelspec": {
   "display_name": "yolov8",
   "language": "python",
   "name": "python3"
  },
  "language_info": {
   "codemirror_mode": {
    "name": "ipython",
    "version": 3
   },
   "file_extension": ".py",
   "mimetype": "text/x-python",
   "name": "python",
   "nbconvert_exporter": "python",
   "pygments_lexer": "ipython3",
   "version": "3.11.7"
  }
 },
 "nbformat": 4,
 "nbformat_minor": 2
}
